{
 "cells": [
  {
   "cell_type": "markdown",
   "id": "98bfd264",
   "metadata": {},
   "source": [
    "# Introduction to Computer Science and Programming Python\n",
    "https://www.youtube.com/watch?v=nykOeWgQcHM&list=PLUl4u3cNGP63WbdFxL8giv4yhgdMGaZNA&index=1\\three main goals\n",
    "-problem solving\\\n",
    "-knowledge of concepts\\\n",
    "-programming skills\\\n",
    "\n",
    "Topic\n",
    "- represent knowledge with data structures \n",
    "- iteration and recursion as computational methaphors\n",
    "- abstraction of procedures and data types\n",
    "- organize and modularize systems using object classes and methods\n",
    "- different calsses of algorithms, searching and sorting\n",
    "- complexity of alogrithms\n",
    "\n"
   ]
  },
  {
   "cell_type": "markdown",
   "id": "2682bc65",
   "metadata": {},
   "source": [
    "computers perform calculations, and remembers reults.\\\n",
    "computers only know what you tell them.\\\n",
    "\n",
    "- Declerative knowledge: statements of fact\n",
    "- Impereative knowledge: is recipe, how to\n",
    "\n",
    "e.g. declreative knowledge:\\\n",
    "square root of a number x is y such that y*y=x\n",
    "\n",
    "e.g. imperative\n",
    "- 1. start with a guess, g\n",
    "- 2. g*g is close enough to x, stop and say g is the answer\n",
    "- 3. otherwise make new guess by averaging g and x/g\n",
    "- 4. Using new guess, repeat process until close enough\n",
    "\n",
    "fixed program comuters: calculator.\\\n",
    "stored program computer, machine stores and excutes instructions: pc\\\n",
    "\n",
    "\n",
    "\n",
    "\n",
    "\n"
   ]
  },
  {
   "cell_type": "markdown",
   "id": "0e2a7d8a",
   "metadata": {},
   "source": [
    "# Stored program computer\n",
    "Sequence of instruction stored inside computer\n",
    "- built from predefined set of primitive instructions.\n",
    "- 1. arithmetic and logs\n",
    "- 2. simple tests\n",
    "- 3. moving data\n",
    "\n",
    "special program (interpreter) executes each instruction in order:\n",
    "- use tests to chagne flow of control through sequence\n",
    "- stop when done\n",
    "\n"
   ]
  },
  {
   "cell_type": "markdown",
   "id": "233b161d",
   "metadata": {},
   "source": [
    "# OBJECTS\n",
    "IN PYTHON EVERYTHING IS OBJECTS.\\\n",
    "Programs manipulate **data objects**.\\\n",
    "\n",
    "Objects have a **type** that defines the kinds of things programs can do to them.\\\n",
    "objects are **scalar** (cannot be subsidived, such as number five) **non-scalar** (have internal structur\\\n",
    "that can be accessed, such as a list of numbers).\n",
    "\n",
    "In python we have the efollowing **scalar objects**:\n",
    "- int\n",
    "- float\n",
    "- bool\n",
    "- NoneType\n",
    "\n",
    "### printing\n",
    "To show output from code to a user, use print command.\\\n",
    "'out' tells you it's an interaction within the shell only.\\\n",
    "no 'out' means it is actually shown to a user.\\\n",
    "\n",
    "### Expressions\n",
    "**Combine objects and operators** to form expressions.\\\n",
    "An experession has a **value**, which has a type.\n",
    "syntax: <object><operator><object>.\n",
    "    \n",
    "### Binding variables and values\n",
    "Equal sign is an **assignment** of a value to a variable name,\\\n",
    "it is stored in the computer memory.\n",
    "\n",
    "    \n"
   ]
  },
  {
   "cell_type": "markdown",
   "id": "d49ed54b",
   "metadata": {},
   "source": [
    "# L2: Strings\n"
   ]
  },
  {
   "cell_type": "code",
   "execution_count": 1,
   "id": "847e8456",
   "metadata": {},
   "outputs": [
    {
     "data": {
      "text/plain": [
       "'hgfedcba'"
      ]
     },
     "execution_count": 1,
     "metadata": {},
     "output_type": "execute_result"
    }
   ],
   "source": [
    "s = 'abcdefgh'\n",
    "s[::-1]"
   ]
  },
  {
   "cell_type": "code",
   "execution_count": null,
   "id": "86371696",
   "metadata": {},
   "outputs": [],
   "source": []
  }
 ],
 "metadata": {
  "kernelspec": {
   "display_name": "Python 3 (ipykernel)",
   "language": "python",
   "name": "python3"
  },
  "language_info": {
   "codemirror_mode": {
    "name": "ipython",
    "version": 3
   },
   "file_extension": ".py",
   "mimetype": "text/x-python",
   "name": "python",
   "nbconvert_exporter": "python",
   "pygments_lexer": "ipython3",
   "version": "3.9.16"
  }
 },
 "nbformat": 4,
 "nbformat_minor": 5
}
