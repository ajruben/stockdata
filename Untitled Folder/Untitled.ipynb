{
 "cells": [
  {
   "cell_type": "markdown",
   "id": "0b1559e3",
   "metadata": {},
   "source": [
    "# Introduction to Qiskit\n",
    "When using Qiskit a user workflow nominally consists of following four\n",
    "high-level steps:\n",
    "- **Build**: Design a quantum circuit that represents the problem you are considering.\n",
    "- **Compile**: Compile circuits for a specific quantum service, e.g. a quantum system or a classical simulater.\n",
    "- **Run**: Run the compiled circuits on teh specified quantum service, these can be cloud based or local.\n",
    "- **Analyze**: Compute summary statistics and visualize the results of the experiments."
   ]
  },
  {
   "cell_type": "markdown",
   "id": "ce047b70",
   "metadata": {},
   "source": [
    "# Step 1: import Packages"
   ]
  },
  {
   "cell_type": "code",
   "execution_count": 6,
   "id": "d641c1d4",
   "metadata": {},
   "outputs": [],
   "source": [
    "import numpy as np\n",
    "from qiskit import QuantumCircuit, transpile #instruction of quantum system, holds operations\n",
    "from qiskit.providers.aer import QasmSimulator #Aer high performance circuit simulator\n",
    "from qiskit.visualization import plot_histogram "
   ]
  },
  {
   "cell_type": "markdown",
   "id": "ab64cc15",
   "metadata": {},
   "source": [
    "# Step 2: Initialize Variables"
   ]
  },
  {
   "cell_type": "code",
   "execution_count": 2,
   "id": "c264e1fd",
   "metadata": {},
   "outputs": [],
   "source": [
    "#initializing with 2 qubits in zero state, 2 classical bits set to zero,\n",
    "#and circuit is the quantum circuit.\n",
    "circuit = QuantumCircuit(2, 2)"
   ]
  },
  {
   "cell_type": "markdown",
   "id": "4ba9e0b1",
   "metadata": {},
   "source": [
    "# Step 3: Add gates "
   ]
  },
  {
   "cell_type": "code",
   "execution_count": 3,
   "id": "c8a71c71",
   "metadata": {},
   "outputs": [
    {
     "data": {
      "text/plain": [
       "<qiskit.circuit.instructionset.InstructionSet at 0x20059fc6820>"
      ]
     },
     "execution_count": 3,
     "metadata": {},
     "output_type": "execute_result"
    }
   ],
   "source": [
    "circuit.h(0) #Hadamard gate on qubit 0, which put it into superposition\n",
    "circuit.cx(0, 1) #CNOT on control qubit 0 and target qubit1, this creates entanglement\n",
    "circuit.measure([0,1],[0,1]) #pass quantum and classical register to measure, ith qubit will be stored in ith calss bit\n"
   ]
  },
  {
   "cell_type": "markdown",
   "id": "65f8fea8",
   "metadata": {},
   "source": [
    "# Step 4: Visualize the Circuit"
   ]
  },
  {
   "cell_type": "code",
   "execution_count": 4,
   "id": "489781d6",
   "metadata": {},
   "outputs": [
    {
     "data": {
      "text/html": [
       "<pre style=\"word-wrap: normal;white-space: pre;background: #fff0;line-height: 1.1;font-family: &quot;Courier New&quot;,Courier,monospace\">     ┌───┐     ┌─┐   \n",
       "q_0: ┤ H ├──■──┤M├───\n",
       "     └───┘┌─┴─┐└╥┘┌─┐\n",
       "q_1: ─────┤ X ├─╫─┤M├\n",
       "          └───┘ ║ └╥┘\n",
       "c: 2/═══════════╩══╩═\n",
       "                0  1 </pre>"
      ],
      "text/plain": [
       "     ┌───┐     ┌─┐   \n",
       "q_0: ┤ H ├──■──┤M├───\n",
       "     └───┘┌─┴─┐└╥┘┌─┐\n",
       "q_1: ─────┤ X ├─╫─┤M├\n",
       "          └───┘ ║ └╥┘\n",
       "c: 2/═══════════╩══╩═\n",
       "                0  1 "
      ]
     },
     "execution_count": 4,
     "metadata": {},
     "output_type": "execute_result"
    }
   ],
   "source": [
    "circuit.draw()"
   ]
  },
  {
   "cell_type": "markdown",
   "id": "014018fb",
   "metadata": {},
   "source": [
    "# Step 5: Simulate the Experiment"
   ]
  },
  {
   "cell_type": "code",
   "execution_count": 50,
   "id": "a8657c0a",
   "metadata": {},
   "outputs": [
    {
     "name": "stdout",
     "output_type": "stream",
     "text": [
      "\n",
      "Total count for 00 and 11 are: {'00': 500, '11': 500}\n"
     ]
    }
   ],
   "source": [
    "simulator = QasmSimulator()\n",
    "compiled_circuit = transpile(circuit, simulator)\n",
    "job = simulator.run(compiled_circuit, shots=1000)\n",
    "result = job.result()\n",
    "counts = result.get_counts(circuit)\n",
    "print('\\nTotal count for 00 and 11 are:', counts)"
   ]
  }
 ],
 "metadata": {
  "kernelspec": {
   "display_name": "Python 3 (ipykernel)",
   "language": "python",
   "name": "python3"
  },
  "language_info": {
   "codemirror_mode": {
    "name": "ipython",
    "version": 3
   },
   "file_extension": ".py",
   "mimetype": "text/x-python",
   "name": "python",
   "nbconvert_exporter": "python",
   "pygments_lexer": "ipython3",
   "version": "3.9.16"
  }
 },
 "nbformat": 4,
 "nbformat_minor": 5
}
