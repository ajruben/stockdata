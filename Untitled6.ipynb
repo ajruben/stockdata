{
 "cells": [
  {
   "cell_type": "markdown",
   "id": "c6b57970",
   "metadata": {},
   "source": [
    "Object Oriented Programming in Python\n",
    "\n",
    "EVerything we work with objects in some sense (funciton/ints/strings).\n",
    "object does: instance of some class, class defines "
   ]
  },
  {
   "cell_type": "code",
   "execution_count": 5,
   "id": "406c4f0e",
   "metadata": {},
   "outputs": [
    {
     "data": {
      "text/plain": [
       "'Buddy'"
      ]
     },
     "execution_count": 5,
     "metadata": {},
     "output_type": "execute_result"
    }
   ],
   "source": [
    "class Dog: #convention uppercase\n",
    "    #instantiate the object righ when it is created, \n",
    "    #this method will be called, when we run Dog()\n",
    "    #__init__ will pass arguments inside Dog(...), e.g. \n",
    "    #give every instant a name\n",
    "    def __init__(self, name, age):   \n",
    "        self.name = name #create attribute of the class Dog , which is name\n",
    "        self.age = age        \n",
    "        pass                  #self denotes the object itself\n",
    "    \n",
    "    def get_name(self):\n",
    "        return self.name\n",
    "    \n",
    "    def get_age(self):\n",
    "        return self.age \n",
    "    \n",
    "    def set_age(self):\n",
    "        return self.age\n",
    "    \n",
    "    def bark(self):   #A method (function that is inside class), self parameter\n",
    "        print('bark')\n",
    "        \n",
    "d = Dog('Tim', 23) # variable d assigned to an instance of class Dog\n",
    "               # Dog() -> instantiating , creating a new instance, of class dog.\n",
    "               # So d is now an object of type Dog  \n",
    "\n",
    "d2 = Dog('Buddy',22)        \n",
    "d2.get_name() #d2 gets passed as the self parameter\n",
    "\n",
    "# Use method (bark) on an instance of class Dog\n",
    "#d.add_one(5)"
   ]
  },
  {
   "cell_type": "markdown",
   "id": "1e7280b8",
   "metadata": {},
   "source": [
    "More complex example"
   ]
  },
  {
   "cell_type": "code",
   "execution_count": 19,
   "id": "746bf2a8",
   "metadata": {},
   "outputs": [
    {
     "name": "stdout",
     "output_type": "stream",
     "text": [
      "False\n"
     ]
    }
   ],
   "source": [
    "# students with grades\n",
    "class Student:\n",
    "    def __init__(self, name, age, grade):\n",
    "        self.name = name\n",
    "        self.age = age\n",
    "        self.grade = grade # 0 - 100\n",
    "    def get_grade(self):\n",
    "        return self.grade\n",
    "    \n",
    "class Course:\n",
    "    def __init__(self, name, max_students):\n",
    "        self.name = name\n",
    "        self.max_students = max_students\n",
    "        self.students = []\n",
    "    def add_student(self, student):\n",
    "        if len(self.students)< self.max_students:\n",
    "            self.students.append(student)\n",
    "            return True\n",
    "        return False\n",
    "    def get_average_grade(self):\n",
    "        value = 0\n",
    "        for student in self.students:\n",
    "            value += student.get_grade()\n",
    "        return value/len(self.students)\n",
    "    \n",
    "    \n",
    "s1 = Student('Ruben', 22, 90)\n",
    "s2 = Student('Bill', 19, 75)\n",
    "s3 = Student('Jill', 19, 65)\n",
    "\n",
    "course = Course('Finance', 2)\n",
    "course.add_student(s1)\n",
    "course.add_student(s2)\n",
    "#print(course.students[0].name)\n",
    "#print(course.get_average_grade())\n",
    "print(course.add_student(s3))"
   ]
  },
  {
   "cell_type": "markdown",
   "id": "d0403041",
   "metadata": {},
   "source": [
    "Inheritence"
   ]
  },
  {
   "cell_type": "code",
   "execution_count": null,
   "id": "0a801d19",
   "metadata": {},
   "outputs": [],
   "source": [
    "class cat:\n",
    "    def __init__(self, name, age):\n",
    "        self.name = name\n",
    "        self.age = age\n",
    "    def speak(self):\n",
    "        print('meow')\n",
    "        \n",
    "class dog;\n",
    "    def __init__(self, name, age):\n",
    "        self.name= name\n",
    "        self.age = age\n",
    "    def speak(self):\n",
    "        print('dog')"
   ]
  },
  {
   "cell_type": "markdown",
   "id": "09e46c69",
   "metadata": {},
   "source": [
    "This should be made easier, shorter"
   ]
  },
  {
   "cell_type": "code",
   "execution_count": 31,
   "id": "30c7be37",
   "metadata": {},
   "outputs": [
    {
     "name": "stdout",
     "output_type": "stream",
     "text": [
      "I am Tim and I am 19 years old\n",
      "I am jemoeder and I am 34 years old and I am black.\n",
      "I am jevader and I am 230 years old\n"
     ]
    }
   ],
   "source": [
    "#general superior class\n",
    "#self refers to instance in which we were talking about\n",
    "class Pet:\n",
    "    def __init__(self, name, age):\n",
    "        self.name = name\n",
    "        self.age = age\n",
    "    def show(self):\n",
    "        print(f'I am {self.name} and I am {self.age} years old')\n",
    "    def speak(self):\n",
    "        print('I don\"t know what I say')\n",
    "    \n",
    "class Cat(Pet): #inherit properties from Pet class\n",
    "    def __init__(self, name, age , color):\n",
    "        super().__init__(name,age)\n",
    "        self.color = color\n",
    "    def speak(self):\n",
    "        print('meow')\n",
    "    def show(self):\n",
    "        print(f'I am {self.name} and I am {self.age} years old and I am {self.color}.')\n",
    "\n",
    "class Dog(Pet):\n",
    "    def speak(self):\n",
    "        print('dog')\n",
    "        \n",
    "p = Pet('Tim',19)\n",
    "p.show()\n",
    "c = Cat('jemoeder', 34, 'black')\n",
    "c.show()\n",
    "d = Dog('jevader', 230)\n",
    "d.show()\n"
   ]
  },
  {
   "cell_type": "markdown",
   "id": "3c91c1af",
   "metadata": {},
   "source": [
    "Class attributes: attributes that are specific to the class,\n",
    "NOT instance of object of that class.\n",
    "\n",
    "lass attribute, does not use self, not defined in method, \n",
    "not acces to instance of class, it's defined for the eniter class.\n",
    "which means it's not specific to any instance. (in contrast to name)\n",
    "\n",
    "Class methods\n",
    "called on class itself, do not have access to instance."
   ]
  },
  {
   "cell_type": "code",
   "execution_count": 10,
   "id": "f66d680c",
   "metadata": {},
   "outputs": [
    {
     "name": "stdout",
     "output_type": "stream",
     "text": [
      "2\n",
      "True\n"
     ]
    }
   ],
   "source": [
    "class Person:\n",
    "    number_of_people = 0 #class attribute, does not use self, not defined in method, not acces to instance of class\n",
    "    def __init__(self,  name):\n",
    "        self.name = name\n",
    "        Person.add_person()\n",
    "        \n",
    "    @classmethod     \n",
    "    def number_of_people_(cls):\n",
    "        return cls.number_of_people\n",
    "    @classmethod\n",
    "    def add_person(cls):\n",
    "        cls.number_of_people += 1\n",
    "\n",
    "p1 = Person('Tim') #variable p1 of type Person\n",
    "p2 = Person('Jill')\n",
    "print(Person.number_of_people_())\n",
    "\n",
    "print(p1.number_of_people==Person.number_of_people)"
   ]
  },
  {
   "cell_type": "markdown",
   "id": "a991c44b",
   "metadata": {},
   "source": [
    "Static methods\n",
    "to group methods/functions (not neccesarily make instances),\n",
    "maybe to create module"
   ]
  },
  {
   "cell_type": "code",
   "execution_count": 19,
   "id": "f727f288",
   "metadata": {},
   "outputs": [
    {
     "data": {
      "text/plain": [
       "<function __main__.Math.pr()>"
      ]
     },
     "execution_count": 19,
     "metadata": {},
     "output_type": "execute_result"
    }
   ],
   "source": [
    "class Math:\n",
    "    @staticmethod\n",
    "    def add5(x):\n",
    "        return x+5\n",
    "    @staticmethod\n",
    "    def add10(x):\n",
    "        return x+10\n",
    "    @staticmethod\n",
    "    def pr():\n",
    "        print('run')\n",
    "    \n",
    "#can run it without creating instance\n",
    "Math.pr"
   ]
  },
  {
   "cell_type": "code",
   "execution_count": null,
   "id": "f7d75209",
   "metadata": {},
   "outputs": [],
   "source": []
  }
 ],
 "metadata": {
  "kernelspec": {
   "display_name": "Python 3 (ipykernel)",
   "language": "python",
   "name": "python3"
  },
  "language_info": {
   "codemirror_mode": {
    "name": "ipython",
    "version": 3
   },
   "file_extension": ".py",
   "mimetype": "text/x-python",
   "name": "python",
   "nbconvert_exporter": "python",
   "pygments_lexer": "ipython3",
   "version": "3.9.16"
  }
 },
 "nbformat": 4,
 "nbformat_minor": 5
}
