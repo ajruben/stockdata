{
 "cells": [
  {
   "cell_type": "markdown",
   "id": "3dfd884c",
   "metadata": {},
   "source": [
    "Big O notation: measure hwo running time or space requirements for your\n",
    "program grows as input size grows."
   ]
  },
  {
   "cell_type": "code",
   "execution_count": 4,
   "id": "35e40a70",
   "metadata": {},
   "outputs": [
    {
     "name": "stdout",
     "output_type": "stream",
     "text": [
      "61.6 ns ± 2.34 ns per loop (mean ± std. dev. of 7 runs, 10000000 loops each)\n"
     ]
    }
   ],
   "source": [
    "# example\n",
    "l1 = range(99)\n",
    "%timeit len(l1)"
   ]
  },
  {
   "cell_type": "code",
   "execution_count": 5,
   "id": "2f7568a1",
   "metadata": {},
   "outputs": [
    {
     "name": "stdout",
     "output_type": "stream",
     "text": [
      "75.3 ns ± 4.38 ns per loop (mean ± std. dev. of 7 runs, 10000000 loops each)\n"
     ]
    }
   ],
   "source": [
    "l2 = range(999)\n",
    "%timeit len(l2)"
   ]
  },
  {
   "cell_type": "markdown",
   "id": "d3de690b",
   "metadata": {},
   "source": [
    "Time increases as size increases,\\\n",
    "if linear: time=$a\\times n +b$\n",
    "1. Keep fastest growing term: time = $a\\times n$.\n",
    "2. Drop constants: time = O(n)"
   ]
  },
  {
   "cell_type": "code",
   "execution_count": 7,
   "id": "6224db69",
   "metadata": {},
   "outputs": [
    {
     "name": "stdout",
     "output_type": "stream",
     "text": [
      "485 ns ± 26.2 ns per loop (mean ± std. dev. of 7 runs, 1000000 loops each)\n",
      "754 ns ± 25.8 ns per loop (mean ± std. dev. of 7 runs, 1000000 loops each)\n"
     ]
    }
   ],
   "source": [
    "#Example: O(n) (since n iterations, time is proportional to n)\n",
    "def get_squared_numbers(numbers):\n",
    "    squared_numbers=[]\n",
    "    for n in numbers:\n",
    "        squared_numbers.append(n*n)\n",
    "    return squared_numbers\n",
    "n1 = [2,5,6,8]\n",
    "n2 = [2,5,6,7,8,6,5,4]\n",
    "%timeit get_squared_numbers(n1)\n",
    "%timeit get_squared_numbers(n2)"
   ]
  },
  {
   "cell_type": "code",
   "execution_count": null,
   "id": "d2d647c5",
   "metadata": {},
   "outputs": [],
   "source": [
    "#Example of O(1)\n",
    "def find_first_pe(prices, eps, index):\n",
    "    pe = prices[index]/eps[index]\n",
    "    return pe\n",
    "#this operation is independent of size of prices, since only 1 iteration"
   ]
  },
  {
   "cell_type": "code",
   "execution_count": 22,
   "id": "08070355",
   "metadata": {},
   "outputs": [
    {
     "name": "stdout",
     "output_type": "stream",
     "text": [
      "4.12 µs ± 217 ns per loop (mean ± std. dev. of 7 runs, 100000 loops each)\n",
      "10.8 µs ± 556 ns per loop (mean ± std. dev. of 7 runs, 100000 loops each)\n",
      "30.5 µs ± 2.11 µs per loop (mean ± std. dev. of 7 runs, 10000 loops each)\n",
      "67.2 µs ± 9.02 µs per loop (mean ± std. dev. of 7 runs, 10000 loops each)\n"
     ]
    }
   ],
   "source": [
    "# Example O(n^2), \n",
    "#finding duplicates\n",
    "numbers = [3,6,2,4,3,6,8,9]\n",
    "numbers2 = [3,6,2,4,3,6,8,9, 4,5,8,11,12,13,15,14]\n",
    "numbers3 = [3,6,2,4,3,6,8,9, 4,5,8,11,12,13,15,14,3,6,2,4,3,6,8,9, 4,5,8,11,12,13,15,14]\n",
    "numbers4 = [3,6,2,4,3,6,8,9, 4,5,8,11,12,13,15,14,3,6,2,4,3,6,8,9, 4,5,8,11,12,13,15,14,\n",
    "            3,6,2,4,3,6,8,9, 4,5,8,11,12,13,15,14,3,6,2,4,3,6,8,9, 4,5,8,11,12,13,15,14]\n",
    "duplicates = []\n",
    "def check_duplicate(numbers):\n",
    "    for i in range(len(numbers)):\n",
    "        for j in range(1+i, len(numbers)):\n",
    "            if numbers[i]==numbers[j]:\n",
    "                duplicates.append(numbers[i])\n",
    "                break\n",
    "    return duplicates\n",
    "%timeit check_duplicate(numbers)\n",
    "%timeit check_duplicate(numbers2)\n",
    "%timeit check_duplicate(numbers3)\n",
    "%timeit check_duplicate(numbers4)"
   ]
  },
  {
   "cell_type": "markdown",
   "id": "2c071a54",
   "metadata": {},
   "source": [
    "We measured running time growth: time complexity.\\\n",
    "Now measure space growth: space complexity."
   ]
  },
  {
   "cell_type": "code",
   "execution_count": null,
   "id": "493991ca",
   "metadata": {},
   "outputs": [],
   "source": [
    "#e.g. search for number in ordered list.\n",
    "#O(n)\n",
    "#can iterate all elements, but will take a long time over large data structures.\n",
    "#so keep didiving -> K = O(logn)"
   ]
  },
  {
   "cell_type": "markdown",
   "id": "27f1b464",
   "metadata": {},
   "source": [
    "# Arrays\n",
    "https://www.youtube.com/watch?v=gDqQf4Ekr2A&list=PLeo1K3hjS3uu_n_a__MI_KktGTLYopZ12&index=3\\\n"
   ]
  },
  {
   "cell_type": "code",
   "execution_count": 24,
   "id": "54fb0474",
   "metadata": {},
   "outputs": [
    {
     "data": {
      "text/plain": [
       "297"
      ]
     },
     "execution_count": 24,
     "metadata": {},
     "output_type": "execute_result"
    }
   ],
   "source": [
    "#apple stock prices\n",
    "stock_prices = [297,205,320,301,292]\n",
    "stock_prices[0]"
   ]
  },
  {
   "cell_type": "markdown",
   "id": "dcb349d3",
   "metadata": {},
   "source": [
    "When you run code, cpu is running code but is using RAM to store all\n",
    "variables and data on addresses (hexidecimal numbers).\\\n",
    "https://chortle.ccsu.edu/assemblytutorial/chapter-04/ass04_5.html  \n",
    "All numbers are stored as a binary number in the RAM.\\\n",
    "e.g. 298 = 100101010.\\\n",
    "We use 4 bytes (8bits) to store the number:\\\n",
    "298 = 00000000 00000000 00000001 00101010 \\\n",
    "These 4 bytes are stored on memory locations, e.g.:\n",
    "1. 0x00500 00000000\n",
    "2. 0x00501 00000000\n",
    "3. 0x00502 00000001\n",
    "4. 0x00503 00101010 \n",
    "\n",
    "So for an array of [298,305,320,301,292], elements are stored as:\n",
    "- 0x00500, where 298 is stored as\n",
    "1. 00000000\n",
    "2. 00000000\n",
    "3. 00000001\n",
    "4. 00101010\n",
    "- 0x00504, where 305 is stored as:\n",
    "1. 00000000\n",
    "2. 00000000\n",
    "3. 00000001\n",
    "4. 00110001\n",
    "- 0x00508\n",
    "- 0x0050A\n",
    "- 0x0050F\n",
    "\n",
    "\n",
    "\n",
    "\n"
   ]
  },
  {
   "cell_type": "code",
   "execution_count": 25,
   "id": "79203f24",
   "metadata": {},
   "outputs": [
    {
     "data": {
      "text/plain": [
       "320"
      ]
     },
     "execution_count": 25,
     "metadata": {},
     "output_type": "execute_result"
    }
   ],
   "source": [
    "# scenario 1: What as price on day three:\n",
    "stock_prices[2]"
   ]
  },
  {
   "cell_type": "code",
   "execution_count": 62,
   "id": "0b897886",
   "metadata": {},
   "outputs": [
    {
     "name": "stdout",
     "output_type": "stream",
     "text": [
      "0x2993f04b9c0\n",
      "0x2993f96ad50\n",
      "0x2993f1fa170\n",
      "0x2993f1fa3b0\n",
      "0x2993f1fa1d0\n"
     ]
    }
   ],
   "source": [
    "print( hex(id(stock_prices)))\n",
    "print( hex(id(stock_prices[0])))\n",
    "print( hex(id(stock_prices[1])))\n",
    "print( hex(id(stock_prices[2])))\n",
    "print( hex(id(stock_prices[3])))"
   ]
  },
  {
   "cell_type": "markdown",
   "id": "22b6da8c",
   "metadata": {},
   "source": [
    "When stock_prices is assigned this memory location, first index is pointing to \n",
    "this particular memory address.\n"
   ]
  },
  {
   "cell_type": "code",
   "execution_count": 61,
   "id": "ec5f0950",
   "metadata": {},
   "outputs": [
    {
     "name": "stdout",
     "output_type": "stream",
     "text": [
      "[297, 284, 284, 284, 284, 205, 320, 301, 292]\n",
      "0x2993f04b9c0\n",
      "0x2993f96ad50\n",
      "0x2993f1fa170\n",
      "0x2993f1fa3b0\n",
      "0x2993f1fa1d0\n"
     ]
    }
   ],
   "source": [
    "# scenario 4: insert new price 284 at index 1\n",
    "#stock_prices.insert(1, 284)\n",
    "print(stock_prices)\n",
    "print( hex(id(stock_prices)))\n",
    "print( hex(id(stock_prices[0])))\n",
    "print( hex(id(stock_prices[1])))\n",
    "print( hex(id(stock_prices[2])))\n",
    "print( hex(id(stock_prices[3])))"
   ]
  }
 ],
 "metadata": {
  "kernelspec": {
   "display_name": "Python 3 (ipykernel)",
   "language": "python",
   "name": "python3"
  },
  "language_info": {
   "codemirror_mode": {
    "name": "ipython",
    "version": 3
   },
   "file_extension": ".py",
   "mimetype": "text/x-python",
   "name": "python",
   "nbconvert_exporter": "python",
   "pygments_lexer": "ipython3",
   "version": "3.9.16"
  }
 },
 "nbformat": 4,
 "nbformat_minor": 5
}
