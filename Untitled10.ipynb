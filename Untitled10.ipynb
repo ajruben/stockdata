{
 "cells": [
  {
   "cell_type": "code",
   "execution_count": 3,
   "id": "506bdcd0",
   "metadata": {},
   "outputs": [
    {
     "name": "stdout",
     "output_type": "stream",
     "text": [
      "pygame 2.1.2 (SDL 2.0.18, Python 3.9.16)\n",
      "Hello from the pygame community. https://www.pygame.org/contribute.html\n"
     ]
    }
   ],
   "source": [
    "import pygame"
   ]
  },
  {
   "cell_type": "markdown",
   "id": "77eda92b",
   "metadata": {},
   "source": [
    "![](pygame.png)"
   ]
  },
  {
   "cell_type": "code",
   "execution_count": 4,
   "id": "747748de",
   "metadata": {},
   "outputs": [],
   "source": [
    "pygame.init()\n",
    "pygame.display.set_mode((500,500))\n",
    "pygame.display.update()\n",
    "pygame.quit()\n",
    "quit()\n",
    "#help(pygame.display)\n"
   ]
  }
 ],
 "metadata": {
  "kernelspec": {
   "display_name": "Python 3 (ipykernel)",
   "language": "python",
   "name": "python3"
  },
  "language_info": {
   "codemirror_mode": {
    "name": "ipython",
    "version": 3
   },
   "file_extension": ".py",
   "mimetype": "text/x-python",
   "name": "python",
   "nbconvert_exporter": "python",
   "pygments_lexer": "ipython3",
   "version": "3.9.16"
  }
 },
 "nbformat": 4,
 "nbformat_minor": 5
}
