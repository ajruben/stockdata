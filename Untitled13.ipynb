{
 "cells": [
  {
   "cell_type": "code",
   "execution_count": null,
   "id": "dc392733",
   "metadata": {},
   "outputs": [],
   "source": [
    "# Import packages.\n",
    "from tradingview_ta import TA_Handler, Interval, Exchange\n",
    "import time\n",
    "\n",
    "# Store the last order.\n",
    "last_order = \"sell\"\n",
    "\n",
    "# Instantiate TA_Handler.\n",
    "handler = TA_Handler(\n",
    "    symbol=\"SYMBOL\",\n",
    "    exchange=\"EXCHANGE\",\n",
    "    screener=\"SCREENER\",\n",
    "    interval=\"INTERVAL\",\n",
    ")\n",
    "\n",
    "# Repeat forever.\n",
    "while True:\n",
    "    # Retrieve recommendation.\n",
    "    rec = handler.get_analysis()[\"RECOMMENDATION\"]\n",
    "\n",
    "    # Create a buy order if the recommendation is \"BUY\" or \"STRONG_BUY\" and the last order is \"sell\".\n",
    "    # Create a sell order if the recommendation is \"SELL\" or \"STRONG_SELL\" and the last order is \"buy\".\n",
    "    if \"BUY\" in rec and last_order == \"sell\":\n",
    "        # REPLACE COMMENT: Create a buy order using your exchange's API.\n",
    "\n",
    "        last_order = \"buy\"\n",
    "    elif \"SELL\" in rec and last_order == \"buy\":\n",
    "        # REPLACE COMMENT: Create a sell order using your exchange's API.\n",
    "\n",
    "        last_order = \"sell\"\n",
    "\n",
    "    # Wait for x seconds before retrieving new analysis.\n",
    "    # The time should be the same as the interval.\n",
    "    time.sleep(x)"
   ]
  }
 ],
 "metadata": {
  "kernelspec": {
   "display_name": "Python 3 (ipykernel)",
   "language": "python",
   "name": "python3"
  },
  "language_info": {
   "codemirror_mode": {
    "name": "ipython",
    "version": 3
   },
   "file_extension": ".py",
   "mimetype": "text/x-python",
   "name": "python",
   "nbconvert_exporter": "python",
   "pygments_lexer": "ipython3",
   "version": "3.9.16"
  }
 },
 "nbformat": 4,
 "nbformat_minor": 5
}
