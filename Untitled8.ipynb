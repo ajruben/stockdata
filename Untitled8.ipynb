{
 "cells": [
  {
   "cell_type": "markdown",
   "id": "3e7750b1",
   "metadata": {},
   "source": [
    "CLasses, Python the hard way"
   ]
  },
  {
   "cell_type": "code",
   "execution_count": 14,
   "id": "f72689f4",
   "metadata": {},
   "outputs": [
    {
     "name": "stdout",
     "output_type": "stream",
     "text": [
      "Happy birthday to you\n",
      "I don't want to get sued\n",
      "So I'll stop right there\n",
      "They rally around tha family\n",
      "With pockets full of shells\n"
     ]
    }
   ],
   "source": [
    "class Song():\n",
    "    \n",
    "    def __init__(self, lyrics):\n",
    "        self.lyrics = lyrics\n",
    "    \n",
    "    def sing_me_a_song(self):\n",
    "        for line in self.lyrics:\n",
    "            print(line)\n",
    "happy_bday = Song([\"Happy birthday to you\",\n",
    "\"I don't want to get sued\",\n",
    "\"So I'll stop right there\"])\n",
    "\n",
    "\n",
    "bulls_on_parade = Song([\"They rally around tha family\",\n",
    "\"With pockets full of shells\"])\n",
    "happy_bday.sing_me_a_song()\n",
    "bulls_on_parade.sing_me_a_song()"
   ]
  }
 ],
 "metadata": {
  "kernelspec": {
   "display_name": "Python 3 (ipykernel)",
   "language": "python",
   "name": "python3"
  },
  "language_info": {
   "codemirror_mode": {
    "name": "ipython",
    "version": 3
   },
   "file_extension": ".py",
   "mimetype": "text/x-python",
   "name": "python",
   "nbconvert_exporter": "python",
   "pygments_lexer": "ipython3",
   "version": "3.9.16"
  }
 },
 "nbformat": 4,
 "nbformat_minor": 5
}
